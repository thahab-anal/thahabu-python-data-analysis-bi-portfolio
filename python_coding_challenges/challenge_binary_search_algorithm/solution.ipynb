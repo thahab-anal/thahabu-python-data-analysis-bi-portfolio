{
 "cells": [
  {
   "cell_type": "markdown",
   "id": "39fae946",
   "metadata": {},
   "source": [
    "Binary Search is an efficient searching algorithm used to find the position of a target value in a sorted array (ascending or descending order).\n",
    "\n",
    "It works by repeatedly dividing the search interval in half."
   ]
  },
  {
   "cell_type": "code",
   "execution_count": null,
   "id": "f0dbcec4",
   "metadata": {},
   "outputs": [],
   "source": [
    "def binary_search_algorithym(target_value,input_list):\n",
    "\n",
    "    input_list=sorted(input_list)\n",
    "\n",
    "    low_value=0\n",
    "    high_value=len(input_list)-1\n",
    "\n",
    "    while low_value<=high_value:\n",
    "            mean=(low_value+high_value)//2\n",
    "            if target_value==input_list[mean]:\n",
    "                return f\"Found at Index {mean}\"\n",
    "            elif target_value>input_list[mean]:\n",
    "                low_value=mean+1\n",
    "            elif target_value<input_list[mean]:\n",
    "                high_value=mean-1\n",
    "    else:\n",
    "        return \"Not Found\"\n",
    "\n",
    "if __name__==\"__main__\":\n",
    "     print(binary_search_algorithym(15,[7,10,1,2,3,18,15,4,6]))\n",
    "     \n",
    "            \n",
    "    "
   ]
  },
  {
   "cell_type": "code",
   "execution_count": null,
   "id": "68583285",
   "metadata": {},
   "outputs": [],
   "source": [
    "import unittest\n",
    "\n",
    "class TestBinarysearch(unittest.TestCase):\n",
    "    def test_lower_bound(self):\n",
    "        self.assertEqual(binary_search_algorithym(90,[100,190,90]),\"Found at Index 0\")\n",
    "    def test_upper_bound(self):\n",
    "        self.assertEqual(binary_search_algorithym(190,[100,190,90]),\"Found at Index 2\")\n",
    "    def test_middle_bound(self):\n",
    "        self.assertEqual(binary_search_algorithym(100,[100,190,90]),\"Found at Index 1\")\n",
    "    def test_not_found(self):\n",
    "        self.assertEqual(binary_search_algorithym(300,[100,190,90]),\"Not Found\")\n",
    "\n",
    "unittest.main(argv=[''],exit=False)\n",
    "\n",
    "# unittest.main()\n",
    "# This is the test runner — it automatically finds all classes that inherit from unittest.TestCase, \n",
    "# runs their test methods (those starting with test_), and reports results.\n",
    "\n",
    "# argv=['']\n",
    "\n",
    "# This prevents unittest from trying to interpret any command-line arguments that Jupyter Notebooks, VS Code, or other environments \n",
    "# might pass in.\n",
    "\n",
    "# exit=False\n",
    "\n",
    "# Normally, unittest.main() calls sys.exit() when done (which stops the interpreter).\n",
    "# In an IDE, Jupyter, or notebook, this would terminate your session."
   ]
  }
 ],
 "metadata": {
  "kernelspec": {
   "display_name": "Python 3",
   "language": "python",
   "name": "python3"
  },
  "language_info": {
   "name": "python",
   "version": "3.11.9"
  }
 },
 "nbformat": 4,
 "nbformat_minor": 5
}
