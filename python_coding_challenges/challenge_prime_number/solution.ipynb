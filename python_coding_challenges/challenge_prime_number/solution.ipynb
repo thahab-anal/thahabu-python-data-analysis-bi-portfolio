{
 "cells": [
  {
   "cell_type": "code",
   "execution_count": 2,
   "metadata": {},
   "outputs": [
    {
     "name": "stdout",
     "output_type": "stream",
     "text": [
      "5 is a prime\n"
     ]
    }
   ],
   "source": [
    "def check_prime(n):\n",
    "    if n == 2 or n == 3:\n",
    "        return (str(n)+ \" is a prime\")\n",
    "    else:\n",
    "        for i in range(2,n):\n",
    "            if n%i==0:\n",
    "                return (str(n) + \" is not a prime\")\n",
    "    return (str(n)+ \" is a prime\")\n",
    "\n",
    "if __name__==\"__main__\":\n",
    "    print(check_prime(5))"
   ]
  },
  {
   "cell_type": "code",
   "execution_count": 5,
   "id": "c4485a28",
   "metadata": {},
   "outputs": [
    {
     "name": "stderr",
     "output_type": "stream",
     "text": [
      "....\n",
      "----------------------------------------------------------------------\n",
      "Ran 4 tests in 0.008s\n",
      "\n",
      "OK\n"
     ]
    },
    {
     "data": {
      "text/plain": [
       "<unittest.main.TestProgram at 0x1ae2423f290>"
      ]
     },
     "execution_count": 5,
     "metadata": {},
     "output_type": "execute_result"
    }
   ],
   "source": [
    "import unittest\n",
    "\n",
    "class TestCheckPrime(unittest.TestCase):\n",
    "    def test_prime(self):\n",
    "        self.assertEqual(check_prime(17),\"17 is a prime\")\n",
    "    def test_notprime(self):\n",
    "        self.assertEqual(check_prime(21),\"21 is not a prime\")\n",
    "    def test_2prime(self):\n",
    "        self.assertEqual(check_prime(2),\"2 is a prime\")\n",
    "    def test_3prime(self):\n",
    "        self.assertEqual(check_prime(3),\"3 is a prime\")\n",
    "\n",
    "unittest.main(argv=[''],exit=False)"
   ]
  }
 ],
 "metadata": {
  "kernelspec": {
   "display_name": "Python 3",
   "language": "python",
   "name": "python3"
  },
  "language_info": {
   "codemirror_mode": {
    "name": "ipython",
    "version": 3
   },
   "file_extension": ".py",
   "mimetype": "text/x-python",
   "name": "python",
   "nbconvert_exporter": "python",
   "pygments_lexer": "ipython3",
   "version": "3.11.9"
  }
 },
 "nbformat": 4,
 "nbformat_minor": 5
}
