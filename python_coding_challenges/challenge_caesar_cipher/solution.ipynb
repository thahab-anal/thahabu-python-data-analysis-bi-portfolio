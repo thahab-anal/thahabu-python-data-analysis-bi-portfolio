{
 "cells": [
  {
   "cell_type": "code",
   "execution_count": 35,
   "id": "968b8f54",
   "metadata": {},
   "outputs": [
    {
     "name": "stdout",
     "output_type": "stream",
     "text": [
      "Ebub Bobmztjt\n"
     ]
    }
   ],
   "source": [
    "def caesar_cipher(txt,key):\n",
    "    import string\n",
    "\n",
    "    lowercase_list=list(string.ascii_lowercase) \n",
    "    uppercase_list=list(string.ascii_uppercase)\n",
    "    new_text=[]\n",
    "    for char in txt:\n",
    "        if char.isupper():\n",
    "            new_text.append(uppercase_list[(uppercase_list.index(char)+key) % 26])\n",
    "        elif char.islower():\n",
    "            new_text.append(lowercase_list[(lowercase_list.index(char)+key) % 26])\n",
    "        else:\n",
    "            new_text.append(char)\n",
    "\n",
    "    return(\"\".join(new_text))\n",
    "\n",
    "if __name__==\"__main__\":\n",
    "    print(caesar_cipher(\"Data Analysis\",1))\n",
    "\n"
   ]
  },
  {
   "cell_type": "code",
   "execution_count": 37,
   "id": "62d1e1fb",
   "metadata": {},
   "outputs": [
    {
     "name": "stderr",
     "output_type": "stream",
     "text": [
      ".\n",
      "----------------------------------------------------------------------\n",
      "Ran 1 test in 0.006s\n",
      "\n",
      "OK\n"
     ]
    },
    {
     "data": {
      "text/plain": [
       "<unittest.main.TestProgram at 0x1712fa95a50>"
      ]
     },
     "execution_count": 37,
     "metadata": {},
     "output_type": "execute_result"
    }
   ],
   "source": [
    "import unittest\n",
    "\n",
    "class TestCaesarCipher(unittest.TestCase):\n",
    "    def test_positive(self):\n",
    "        actual=caesar_cipher(\"a b C\",5)\n",
    "        self.assertEqual(actual,\"f g H\")\n",
    "        self.assertEqual(len(actual),5)\n",
    "\n",
    "unittest.main(argv=[''],exit=False)\n",
    "\n"
   ]
  }
 ],
 "metadata": {
  "kernelspec": {
   "display_name": "Python 3",
   "language": "python",
   "name": "python3"
  },
  "language_info": {
   "codemirror_mode": {
    "name": "ipython",
    "version": 3
   },
   "file_extension": ".py",
   "mimetype": "text/x-python",
   "name": "python",
   "nbconvert_exporter": "python",
   "pygments_lexer": "ipython3",
   "version": "3.11.9"
  }
 },
 "nbformat": 4,
 "nbformat_minor": 5
}
