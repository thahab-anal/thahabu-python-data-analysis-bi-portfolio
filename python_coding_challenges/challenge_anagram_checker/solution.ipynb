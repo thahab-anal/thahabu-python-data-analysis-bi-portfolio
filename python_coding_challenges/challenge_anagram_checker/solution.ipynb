{
 "cells": [
  {
   "cell_type": "code",
   "execution_count": 11,
   "id": "0bd899ae",
   "metadata": {},
   "outputs": [
    {
     "name": "stdout",
     "output_type": "stream",
     "text": [
      "True\n"
     ]
    }
   ],
   "source": [
    "def anagram_checker(str1,str2):\n",
    "    return(\"\".join(sorted(str1.replace(\" \",\"\").lower()))==\"\".join(sorted(str2.replace(\" \",\"\").lower())))\n",
    "\n",
    "if __name__==\"__main__\":\n",
    "    print(anagram_checker(\"Board\",\"Broad\"))\n",
    "\n",
    "    "
   ]
  },
  {
   "cell_type": "code",
   "execution_count": 21,
   "id": "45243106",
   "metadata": {},
   "outputs": [
    {
     "name": "stderr",
     "output_type": "stream",
     "text": [
      "....\n",
      "----------------------------------------------------------------------\n",
      "Ran 4 tests in 0.005s\n",
      "\n",
      "OK\n"
     ]
    },
    {
     "data": {
      "text/plain": [
       "<unittest.main.TestProgram at 0x202286662d0>"
      ]
     },
     "execution_count": 21,
     "metadata": {},
     "output_type": "execute_result"
    }
   ],
   "source": [
    "import unittest\n",
    "\n",
    "class TestAnagram(unittest.TestCase):\n",
    "    def test_caps(self):\n",
    "        self.assertTrue(anagram_checker(\"Board\",\"Broad\"))\n",
    "    def test_space(self):\n",
    "        self.assertTrue(anagram_checker(\"B oa rdI\",\"B r oI ad\"))\n",
    "    def test_space2(self):\n",
    "        self.assertFalse(anagram_checker(\"ASB oa rdI\",\"B r oI ad\"))\n",
    "    def test_double_char(self):\n",
    "        self.assertTrue(anagram_checker(\"B oaa rdI\",\"B r oI aad\"))\n",
    "\n",
    "unittest.main(argv=[''], exit=False)\n",
    "        \n"
   ]
  }
 ],
 "metadata": {
  "kernelspec": {
   "display_name": "Python 3",
   "language": "python",
   "name": "python3"
  },
  "language_info": {
   "codemirror_mode": {
    "name": "ipython",
    "version": 3
   },
   "file_extension": ".py",
   "mimetype": "text/x-python",
   "name": "python",
   "nbconvert_exporter": "python",
   "pygments_lexer": "ipython3",
   "version": "3.11.9"
  }
 },
 "nbformat": 4,
 "nbformat_minor": 5
}
