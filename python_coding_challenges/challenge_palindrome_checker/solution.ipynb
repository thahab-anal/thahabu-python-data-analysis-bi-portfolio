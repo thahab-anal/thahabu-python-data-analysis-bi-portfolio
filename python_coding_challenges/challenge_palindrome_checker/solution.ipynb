{
 "cells": [
  {
   "cell_type": "markdown",
   "id": "fe007bdb",
   "metadata": {},
   "source": [
    "Create a function to check whether a given word or phrase is a palindrome (reads the same backward as forward)."
   ]
  },
  {
   "cell_type": "code",
   "execution_count": null,
   "id": "12b88869",
   "metadata": {},
   "outputs": [
    {
     "name": "stdout",
     "output_type": "stream",
     "text": [
      "6madam6 is a Palindrome\n",
      "6madam7 is not a Palindrome\n"
     ]
    }
   ],
   "source": [
    "# def palindrome_checker(s):\n",
    "import re\n",
    "def palindrome_checker(s=\"\"):\n",
    "    s=s.replace(\" \",\"\").lower()\n",
    "    s=re.sub(r\"[^A-Za-z0-9]\",\"\",s)\n",
    "    if s ==\"\":\n",
    "        result = \"Input is empty\"\n",
    "    elif s==s[::-1]:\n",
    "        result= s  + \" is a Palindrome\"\n",
    "    else:\n",
    "        result= s  + \" is not a Palindrome\"\n",
    "    return(result)\n",
    "\n",
    "if __name__==\"__main__\":\n",
    "    print(palindrome_checker(\"6madam !@6\"))\n",
    "    print(palindrome_checker(\"6madam !@7\"))\n",
    "\n"
   ]
  },
  {
   "cell_type": "code",
   "execution_count": null,
   "id": "6ae71497",
   "metadata": {},
   "outputs": [
    {
     "name": "stderr",
     "output_type": "stream",
     "text": [
      "..\n",
      "----------------------------------------------------------------------\n",
      "Ran 2 tests in 0.008s\n",
      "\n",
      "OK\n"
     ]
    },
    {
     "data": {
      "text/plain": [
       "<unittest.main.TestProgram at 0x2a36a33ead0>"
      ]
     },
     "execution_count": 13,
     "metadata": {},
     "output_type": "execute_result"
    }
   ],
   "source": [
    "import unittest\n",
    "\n",
    "class TestPalindromeChecker(unittest.TestCase):\n",
    "    def test_phrase(self):\n",
    "        if \"not\" in palindrome_checker(\"6Madam !@6\"):\n",
    "            result=False\n",
    "        else:\n",
    "            result=True\n",
    "        self.assertTrue(result)\n",
    "    def test_negative(self):\n",
    "        if \"not\" in palindrome_checker(\"Clear !@6\"):\n",
    "            result=False\n",
    "        else:\n",
    "            result=True\n",
    "        self.assertFalse(result)\n",
    "unittest.main(argv=[''], exit=False)"
   ]
  }
 ],
 "metadata": {
  "kernelspec": {
   "display_name": "Python 3",
   "language": "python",
   "name": "python3"
  },
  "language_info": {
   "codemirror_mode": {
    "name": "ipython",
    "version": 3
   },
   "file_extension": ".py",
   "mimetype": "text/x-python",
   "name": "python",
   "nbconvert_exporter": "python",
   "pygments_lexer": "ipython3",
   "version": "3.11.9"
  }
 },
 "nbformat": 4,
 "nbformat_minor": 5
}
