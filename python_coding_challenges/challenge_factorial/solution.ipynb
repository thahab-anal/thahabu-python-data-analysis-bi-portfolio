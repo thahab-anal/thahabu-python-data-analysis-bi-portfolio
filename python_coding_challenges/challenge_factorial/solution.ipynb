{
 "cells": [
  {
   "cell_type": "code",
   "execution_count": 20,
   "id": "901157a1",
   "metadata": {},
   "outputs": [
    {
     "name": "stdout",
     "output_type": "stream",
     "text": [
      "40320\n"
     ]
    }
   ],
   "source": [
    "def factorial(n):\n",
    "    if n == 0 or n==1:\n",
    "        return 1\n",
    "    else:\n",
    "        fact=[1]*(n+1)\n",
    "        for i in range(2,n+1):\n",
    "            fact[i]=i * fact[i-1]\n",
    "    return(fact[n])    \n",
    "\n",
    "if __name__==\"__main__\":\n",
    "    print(factorial(8))"
   ]
  },
  {
   "cell_type": "code",
   "execution_count": 22,
   "id": "f19b4a01",
   "metadata": {},
   "outputs": [
    {
     "name": "stderr",
     "output_type": "stream",
     "text": [
      "...\n",
      "----------------------------------------------------------------------\n",
      "Ran 3 tests in 0.006s\n",
      "\n",
      "OK\n"
     ]
    },
    {
     "data": {
      "text/plain": [
       "<unittest.main.TestProgram at 0x1e2576143d0>"
      ]
     },
     "execution_count": 22,
     "metadata": {},
     "output_type": "execute_result"
    }
   ],
   "source": [
    "import unittest\n",
    "\n",
    "class TestFactorial(unittest.TestCase):\n",
    "    def test_fact_4(self):\n",
    "        self.assertEqual(factorial(4),24)\n",
    "    def test_fact_0(self):\n",
    "        self.assertEqual(factorial(0),1)\n",
    "    def test_fact_3(self):\n",
    "        self.assertEqual(factorial(3),6)\n",
    "\n",
    "unittest.main(argv=[''], exit=False)\n",
    "\n"
   ]
  }
 ],
 "metadata": {
  "kernelspec": {
   "display_name": "Python 3",
   "language": "python",
   "name": "python3"
  },
  "language_info": {
   "codemirror_mode": {
    "name": "ipython",
    "version": 3
   },
   "file_extension": ".py",
   "mimetype": "text/x-python",
   "name": "python",
   "nbconvert_exporter": "python",
   "pygments_lexer": "ipython3",
   "version": "3.11.9"
  }
 },
 "nbformat": 4,
 "nbformat_minor": 5
}
