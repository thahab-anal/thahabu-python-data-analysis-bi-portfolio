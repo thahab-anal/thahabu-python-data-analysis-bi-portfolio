{
 "cells": [
  {
   "cell_type": "code",
   "execution_count": 17,
   "id": "aa2f58a8",
   "metadata": {},
   "outputs": [
    {
     "name": "stdout",
     "output_type": "stream",
     "text": [
      "gninraeL\n"
     ]
    }
   ],
   "source": [
    "def reverse_string_no_inbuilt(str1):\n",
    "# Built In Function  str1[::-1]\n",
    "# Built In Function  \"\".join(reversed(str1))\n",
    "\n",
    "    modified_str1 = \"\"\n",
    "\n",
    "    for c in str1:\n",
    "        modified_str1=c + modified_str1\n",
    "    return(modified_str1)\n",
    "\n",
    "if __name__==\"__main__\":\n",
    "    print(reverse_string_no_inbuilt(\"Learning\"))\n"
   ]
  },
  {
   "cell_type": "code",
   "execution_count": 22,
   "id": "fc03b91f",
   "metadata": {},
   "outputs": [
    {
     "name": "stderr",
     "output_type": "stream",
     "text": [
      "C:\\Users\\PC\\AppData\\Local\\Temp\\ipykernel_15032\\1590422096.py:6: DeprecationWarning: Please use assertEqual instead.\n",
      "  self.assertEquals(reverse_string_no_inbuilt(\"gninraeL\"),expected)\n",
      ".\n",
      "----------------------------------------------------------------------\n",
      "Ran 1 test in 0.005s\n",
      "\n",
      "OK\n"
     ]
    },
    {
     "data": {
      "text/plain": [
       "<unittest.main.TestProgram at 0x1965f4e2c10>"
      ]
     },
     "execution_count": 22,
     "metadata": {},
     "output_type": "execute_result"
    }
   ],
   "source": [
    "import unittest\n",
    "\n",
    "class TestStringReverse(unittest.TestCase):\n",
    "    def test_positive(self):\n",
    "        expected=\"gninraeL\"[::-1]\n",
    "        self.assertEquals(reverse_string_no_inbuilt(\"gninraeL\"),expected)\n",
    "\n",
    "unittest.main(argv=[''],exit=False)\n"
   ]
  }
 ],
 "metadata": {
  "kernelspec": {
   "display_name": "Python 3",
   "language": "python",
   "name": "python3"
  },
  "language_info": {
   "codemirror_mode": {
    "name": "ipython",
    "version": 3
   },
   "file_extension": ".py",
   "mimetype": "text/x-python",
   "name": "python",
   "nbconvert_exporter": "python",
   "pygments_lexer": "ipython3",
   "version": "3.11.9"
  }
 },
 "nbformat": 4,
 "nbformat_minor": 5
}
